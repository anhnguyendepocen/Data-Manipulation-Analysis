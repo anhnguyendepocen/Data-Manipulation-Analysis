{
 "cells": [
  {
   "cell_type": "markdown",
   "metadata": {
    "colab_type": "text",
    "id": "UGqk3SzXsMR3"
   },
   "source": [
    "# SI 618 - Homework #1: Data Manipulation"
   ]
  },
  {
   "cell_type": "markdown",
   "metadata": {
    "colab_type": "text",
    "id": "Crxe7LeXJ9yn"
   },
   "source": [
    "## Background"
   ]
  },
  {
   "cell_type": "markdown",
   "metadata": {
    "colab_type": "text",
    "id": "1IaTA3GNJ9yo"
   },
   "source": [
    "This homework assignment focuses on the analysis of historical data from the Olympic games.  The description of the data includes the following:\n",
    "> This is a historical dataset on the modern Olympic Games, including all the Games from Athens 1896 to Rio 2016. I scraped this data from www.sports-reference.com in May 2018."
   ]
  },
  {
   "cell_type": "markdown",
   "metadata": {
    "colab_type": "text",
    "id": "jae-nANHJ9yp"
   },
   "source": [
    "Your main task in this assignment is to explore the data *using the data\n",
    "manipulation methods we covered in class* as well as those in the assigned readings.  You may need to consult pandas documentation, Stack Overflow, or other online resources.  \n",
    "\n",
    "** You should also feel free to ask questions on the class Slack channel! **"
   ]
  },
  {
   "cell_type": "markdown",
   "metadata": {
    "colab_type": "text",
    "id": "pbqbtPreaCjs"
   },
   "source": [
    "A total of 100 points is available in this homework assignment, consisting of:\n",
    "- 80 points for completing the specific homework questions. More comprehensive \n",
    "answers will tend to gain more points.\n",
    "- 10 points for the overall quality of spelling, grammar, punctuation, and style of written responses.  (see https://faculty.washington.edu/heagerty/Courses/b572/public/StrunkWhite.pdf for a detailed specifications).\n",
    "- 10 points for creating code that conforms to [PEP 8](https://www.python.org/dev/peps/pep-0008/) guidelines.  You should review those guidelines before proceding with the assignment.\n"
   ]
  },
  {
   "cell_type": "markdown",
   "metadata": {},
   "source": [
    "### 0. Download the data from:\n",
    "\n",
    "https://www.kaggle.com/heesoo37/120-years-of-olympic-history-athletes-and-results\n",
    "https://en.wikipedia.org/wiki/List_of_Olympic_Games_host_cities (note: we suggest you use the read_html function to load the data into a DataFrame.\n",
    "                                                                 "
   ]
  },
  {
   "cell_type": "code",
   "execution_count": 11,
   "metadata": {},
   "outputs": [],
   "source": [
    "MY_UNIQNAME = 'xinyexu' # please fill in your uniqname"
   ]
  },
  {
   "cell_type": "code",
   "execution_count": 7,
   "metadata": {},
   "outputs": [],
   "source": [
    "# data\n",
    "import numpy as np\n",
    "import pandas as pd\n",
    "import matplotlib\n",
    "\n",
    "event = pd.read_csv('/Users/xuxinye/Downloads/athlete_events.csv')\n",
    "region = pd.read_csv('/Users/xuxinye/Downloads/noc_regions.csv')\n",
    "\n",
    "# a = {'class': \"wikitable sortable jquery-tablesorter\"} # create an appropriate dictionary\n",
    "# host = pd.read_html(\"https://en.wikipedia.org/wiki/List_of_Olympic_Games_host_cities\", attrs=a)\n",
    "host_scraped  = pd.read_html(\"https://en.wikipedia.org/wiki/List_of_Olympic_Games_host_cities\")"
   ]
  },
  {
   "cell_type": "markdown",
   "metadata": {
    "colab_type": "text",
    "id": "8EV1PilWtl0Z"
   },
   "source": [
    "## 1. Answer the questions below. \n",
    "For each question, you should\n",
    "1. Write code using Python and pandas that can help you answer the following questions, and\n",
    "2. Explain your answers in plain English. You should use complete sentences that would be understood by an educated professional who is not necessarily a data scientist (like a product manager)."
   ]
  },
  {
   "cell_type": "markdown",
   "metadata": {
    "colab_type": "text",
    "id": "PfjXDtHoabcS"
   },
   "source": [
    "### 5 pt: Describe the dataset. \n",
    "- How many number rows and columns do you see in each data frame? \n",
    "- Are there any other interesting descriptive details?"
   ]
  },
  {
   "cell_type": "code",
   "execution_count": 10,
   "metadata": {
    "colab": {},
    "colab_type": "code",
    "id": "ttHwVC8ot5Ur"
   },
   "outputs": [
    {
     "name": "stdout",
     "output_type": "stream",
     "text": [
      "(230, 3)\n",
      "(271116, 15)\n",
      "8\n"
     ]
    },
    {
     "data": {
      "text/html": [
       "<div>\n",
       "<style scoped>\n",
       "    .dataframe tbody tr th:only-of-type {\n",
       "        vertical-align: middle;\n",
       "    }\n",
       "\n",
       "    .dataframe tbody tr th {\n",
       "        vertical-align: top;\n",
       "    }\n",
       "\n",
       "    .dataframe thead th {\n",
       "        text-align: right;\n",
       "    }\n",
       "</style>\n",
       "<table border=\"1\" class=\"dataframe\">\n",
       "  <thead>\n",
       "    <tr style=\"text-align: right;\">\n",
       "      <th></th>\n",
       "      <th>ID</th>\n",
       "      <th>Age</th>\n",
       "      <th>Height</th>\n",
       "      <th>Weight</th>\n",
       "      <th>Year</th>\n",
       "    </tr>\n",
       "  </thead>\n",
       "  <tbody>\n",
       "    <tr>\n",
       "      <th>count</th>\n",
       "      <td>271116.000000</td>\n",
       "      <td>261642.000000</td>\n",
       "      <td>210945.000000</td>\n",
       "      <td>208241.000000</td>\n",
       "      <td>271116.000000</td>\n",
       "    </tr>\n",
       "    <tr>\n",
       "      <th>mean</th>\n",
       "      <td>68248.954396</td>\n",
       "      <td>25.556898</td>\n",
       "      <td>175.338970</td>\n",
       "      <td>70.702393</td>\n",
       "      <td>1978.378480</td>\n",
       "    </tr>\n",
       "    <tr>\n",
       "      <th>std</th>\n",
       "      <td>39022.286345</td>\n",
       "      <td>6.393561</td>\n",
       "      <td>10.518462</td>\n",
       "      <td>14.348020</td>\n",
       "      <td>29.877632</td>\n",
       "    </tr>\n",
       "    <tr>\n",
       "      <th>min</th>\n",
       "      <td>1.000000</td>\n",
       "      <td>10.000000</td>\n",
       "      <td>127.000000</td>\n",
       "      <td>25.000000</td>\n",
       "      <td>1896.000000</td>\n",
       "    </tr>\n",
       "    <tr>\n",
       "      <th>25%</th>\n",
       "      <td>34643.000000</td>\n",
       "      <td>21.000000</td>\n",
       "      <td>168.000000</td>\n",
       "      <td>60.000000</td>\n",
       "      <td>1960.000000</td>\n",
       "    </tr>\n",
       "    <tr>\n",
       "      <th>50%</th>\n",
       "      <td>68205.000000</td>\n",
       "      <td>24.000000</td>\n",
       "      <td>175.000000</td>\n",
       "      <td>70.000000</td>\n",
       "      <td>1988.000000</td>\n",
       "    </tr>\n",
       "    <tr>\n",
       "      <th>75%</th>\n",
       "      <td>102097.250000</td>\n",
       "      <td>28.000000</td>\n",
       "      <td>183.000000</td>\n",
       "      <td>79.000000</td>\n",
       "      <td>2002.000000</td>\n",
       "    </tr>\n",
       "    <tr>\n",
       "      <th>max</th>\n",
       "      <td>135571.000000</td>\n",
       "      <td>97.000000</td>\n",
       "      <td>226.000000</td>\n",
       "      <td>214.000000</td>\n",
       "      <td>2016.000000</td>\n",
       "    </tr>\n",
       "  </tbody>\n",
       "</table>\n",
       "</div>"
      ],
      "text/plain": [
       "                  ID            Age         Height         Weight  \\\n",
       "count  271116.000000  261642.000000  210945.000000  208241.000000   \n",
       "mean    68248.954396      25.556898     175.338970      70.702393   \n",
       "std     39022.286345       6.393561      10.518462      14.348020   \n",
       "min         1.000000      10.000000     127.000000      25.000000   \n",
       "25%     34643.000000      21.000000     168.000000      60.000000   \n",
       "50%     68205.000000      24.000000     175.000000      70.000000   \n",
       "75%    102097.250000      28.000000     183.000000      79.000000   \n",
       "max    135571.000000      97.000000     226.000000     214.000000   \n",
       "\n",
       "                Year  \n",
       "count  271116.000000  \n",
       "mean     1978.378480  \n",
       "std        29.877632  \n",
       "min      1896.000000  \n",
       "25%      1960.000000  \n",
       "50%      1988.000000  \n",
       "75%      2002.000000  \n",
       "max      2016.000000  "
      ]
     },
     "execution_count": 10,
     "metadata": {},
     "output_type": "execute_result"
    }
   ],
   "source": [
    "# put your code here\n",
    "print(region.shape)\n",
    "print(event.shape)\n",
    "print(len(host_scraped)) # directly scrap from html is a list\n",
    "event.describe()"
   ]
  },
  {
   "cell_type": "markdown",
   "metadata": {},
   "source": [
    "(1) The athlete_events has 271116 rows and 15 columns;  noc_regions has 230 rows and 3 columns. host_scraped is a list of 8, because it was directly scraped from html.\n",
    "\n",
    "(2) There is an athlete who was only 10 years old and there is also another athlete with 97 age. "
   ]
  },
  {
   "cell_type": "markdown",
   "metadata": {
    "colab_type": "text",
    "id": "tbmL9-kta0o4"
   },
   "source": [
    "### 5 pt: What is the overall ratio of female to male atheletes? \n",
    "There are multiple ways one could determine the meaning of \"overall\" here, and there isn't necessarily one correct answer. Based on your interpretation, give a justification for the choices you made in your analysis."
   ]
  },
  {
   "cell_type": "code",
   "execution_count": 20,
   "metadata": {
    "colab": {},
    "colab_type": "code",
    "id": "33LcHThyt5_N"
   },
   "outputs": [
    {
     "name": "stdout",
     "output_type": "stream",
     "text": [
      "M    196594\n",
      "F     74522\n",
      "Name: Sex, dtype: int64\n"
     ]
    },
    {
     "data": {
      "text/plain": [
       "0.37906548521318045"
      ]
     },
     "execution_count": 20,
     "metadata": {},
     "output_type": "execute_result"
    }
   ],
   "source": [
    "print(event.Sex.value_counts())\n",
    "event.Sex.value_counts()[1] / event.Sex.value_counts()[0]"
   ]
  },
  {
   "cell_type": "markdown",
   "metadata": {
    "colab_type": "text",
    "id": "FD6-7-D-uWmX"
   },
   "source": [
    "In the cloumn of Sex, there are 196594 M and 74522 F, so the ratio is 74522/ 196594"
   ]
  },
  {
   "cell_type": "markdown",
   "metadata": {
    "colab_type": "text",
    "id": "0u5VM5ksbCTm"
   },
   "source": [
    "### 10 pt: Which athelete competed in most number of events? \n",
    "In which events did the athelete participate, and for what range of years? Which country did the athlete represent?"
   ]
  },
  {
   "cell_type": "code",
   "execution_count": 49,
   "metadata": {
    "colab": {},
    "colab_type": "code",
    "id": "JtI8ru2at6ZU"
   },
   "outputs": [
    {
     "name": "stdout",
     "output_type": "stream",
     "text": [
      "Robert Tait McKenzie        58\n",
      "Heikki Ilmari Savolainen    39\n",
      "Joseph \"Josy\" Stoffel       38\n",
      "Name: Name, dtype: int64\n",
      "[1912 1928 1932 1936 1948]\n",
      "['Art Competitions Mixed Sculpturing'\n",
      " 'Art Competitions Mixed Sculpturing, Statues'\n",
      " 'Art Competitions Mixed Sculpturing, Medals And Reliefs'\n",
      " 'Art Competitions Mixed Sculpturing, Unknown Event'\n",
      " 'Art Competitions Mixed Sculpturing, Medals']\n",
      "['Canada']\n"
     ]
    }
   ],
   "source": [
    "# put your code here\n",
    "print(event.Name.value_counts().sort_values(ascending = False)[0:3])\n",
    "df = event[event.Name == 'Robert Tait McKenzie']\n",
    "print(df.Year.unique())\n",
    "print(df.Event.unique())\n",
    "print(df.Team.unique())"
   ]
  },
  {
   "cell_type": "markdown",
   "metadata": {
    "colab_type": "text",
    "id": "CCuxztg3uYPQ"
   },
   "source": [
    "\n",
    "Robert Tait McKenzie attened the largest number of events. \n",
    "\n",
    "He has joined: \n",
    "['Art Competitions Mixed Sculpturing'\n",
    " 'Art Competitions Mixed Sculpturing, Statues'\n",
    " 'Art Competitions Mixed Sculpturing, Medals And Reliefs'\n",
    " 'Art Competitions Mixed Sculpturing, Unknown Event'\n",
    " 'Art Competitions Mixed Sculpturing, Medals']\n",
    "\n",
    "He has attend in the years of 1912 1928 1932 1936 1948.\n",
    "And he represented Canada. "
   ]
  },
  {
   "cell_type": "markdown",
   "metadata": {
    "colab_type": "text",
    "id": "2wH5ikUcbb16"
   },
   "source": [
    "### 10 pt: Which sport has the highest median athlete age? \n",
    "To determine this, you might want to plot the median age for each sport. You may want to sort the axes appropriately for your analysis."
   ]
  },
  {
   "cell_type": "code",
   "execution_count": 64,
   "metadata": {
    "colab": {},
    "colab_type": "code",
    "id": "GneWWgFVt62N"
   },
   "outputs": [
    {
     "data": {
      "text/plain": [
       "<matplotlib.axes._subplots.AxesSubplot at 0x11e33bb00>"
      ]
     },
     "execution_count": 64,
     "metadata": {},
     "output_type": "execute_result"
    },
    {
     "data": {
      "image/png": "[encoded data removed]",
      "text/plain": [
       "<Figure size 1296x576 with 1 Axes>"
      ]
     },
     "metadata": {},
     "output_type": "display_data"
    }
   ],
   "source": [
    "# put your code here\n",
    "hig_med = event[[\"Age\", \"Sport\"]].groupby(\"Sport\").median().sort_values(by='Age')\n",
    "hig_med.tail()\n",
    "hig_med.plot.bar(figsize=(18,8))"
   ]
  },
  {
   "cell_type": "markdown",
   "metadata": {
    "colab_type": "text",
    "id": "WlWYu2_5uY7K"
   },
   "source": [
    "From the plot, Roque has the highest median athlete age 59.  "
   ]
  },
  {
   "cell_type": "markdown",
   "metadata": {
    "colab_type": "text",
    "id": "wGoiQk8XbqHw"
   },
   "source": [
    "### 10 pt: In which events has the Netherlands won the most medals?"
   ]
  },
  {
   "cell_type": "code",
   "execution_count": 159,
   "metadata": {
    "colab": {},
    "colab_type": "code",
    "id": "U5jIdE3_t7YA"
   },
   "outputs": [
    {
     "data": {
      "text/html": [
       "<div>\n",
       "<style scoped>\n",
       "    .dataframe tbody tr th:only-of-type {\n",
       "        vertical-align: middle;\n",
       "    }\n",
       "\n",
       "    .dataframe tbody tr th {\n",
       "        vertical-align: top;\n",
       "    }\n",
       "\n",
       "    .dataframe thead th {\n",
       "        text-align: right;\n",
       "    }\n",
       "</style>\n",
       "<table border=\"1\" class=\"dataframe\">\n",
       "  <thead>\n",
       "    <tr style=\"text-align: right;\">\n",
       "      <th></th>\n",
       "      <th>ID</th>\n",
       "      <th>Name</th>\n",
       "      <th>Sex</th>\n",
       "      <th>Age</th>\n",
       "      <th>Height</th>\n",
       "      <th>Weight</th>\n",
       "      <th>Team</th>\n",
       "      <th>NOC</th>\n",
       "      <th>Games</th>\n",
       "      <th>Year</th>\n",
       "      <th>Season</th>\n",
       "      <th>City</th>\n",
       "      <th>Sport</th>\n",
       "      <th>Event</th>\n",
       "      <th>Medal</th>\n",
       "    </tr>\n",
       "  </thead>\n",
       "  <tbody>\n",
       "    <tr>\n",
       "      <th>3</th>\n",
       "      <td>4</td>\n",
       "      <td>Edgar Lindenau Aabye</td>\n",
       "      <td>M</td>\n",
       "      <td>34.0</td>\n",
       "      <td>NaN</td>\n",
       "      <td>NaN</td>\n",
       "      <td>Denmark/Sweden</td>\n",
       "      <td>DEN</td>\n",
       "      <td>1900 Summer</td>\n",
       "      <td>1900</td>\n",
       "      <td>Summer</td>\n",
       "      <td>Paris</td>\n",
       "      <td>Tug-Of-War</td>\n",
       "      <td>Tug-Of-War Men's Tug-Of-War</td>\n",
       "      <td>Gold</td>\n",
       "    </tr>\n",
       "    <tr>\n",
       "      <th>37</th>\n",
       "      <td>15</td>\n",
       "      <td>Arvo Ossian Aaltonen</td>\n",
       "      <td>M</td>\n",
       "      <td>30.0</td>\n",
       "      <td>NaN</td>\n",
       "      <td>NaN</td>\n",
       "      <td>Finland</td>\n",
       "      <td>FIN</td>\n",
       "      <td>1920 Summer</td>\n",
       "      <td>1920</td>\n",
       "      <td>Summer</td>\n",
       "      <td>Antwerpen</td>\n",
       "      <td>Swimming</td>\n",
       "      <td>Swimming Men's 200 metres Breaststroke</td>\n",
       "      <td>Bronze</td>\n",
       "    </tr>\n",
       "    <tr>\n",
       "      <th>38</th>\n",
       "      <td>15</td>\n",
       "      <td>Arvo Ossian Aaltonen</td>\n",
       "      <td>M</td>\n",
       "      <td>30.0</td>\n",
       "      <td>NaN</td>\n",
       "      <td>NaN</td>\n",
       "      <td>Finland</td>\n",
       "      <td>FIN</td>\n",
       "      <td>1920 Summer</td>\n",
       "      <td>1920</td>\n",
       "      <td>Summer</td>\n",
       "      <td>Antwerpen</td>\n",
       "      <td>Swimming</td>\n",
       "      <td>Swimming Men's 400 metres Breaststroke</td>\n",
       "      <td>Bronze</td>\n",
       "    </tr>\n",
       "    <tr>\n",
       "      <th>40</th>\n",
       "      <td>16</td>\n",
       "      <td>Juhamatti Tapio Aaltonen</td>\n",
       "      <td>M</td>\n",
       "      <td>28.0</td>\n",
       "      <td>184.0</td>\n",
       "      <td>85.0</td>\n",
       "      <td>Finland</td>\n",
       "      <td>FIN</td>\n",
       "      <td>2014 Winter</td>\n",
       "      <td>2014</td>\n",
       "      <td>Winter</td>\n",
       "      <td>Sochi</td>\n",
       "      <td>Ice Hockey</td>\n",
       "      <td>Ice Hockey Men's Ice Hockey</td>\n",
       "      <td>Bronze</td>\n",
       "    </tr>\n",
       "    <tr>\n",
       "      <th>41</th>\n",
       "      <td>17</td>\n",
       "      <td>Paavo Johannes Aaltonen</td>\n",
       "      <td>M</td>\n",
       "      <td>28.0</td>\n",
       "      <td>175.0</td>\n",
       "      <td>64.0</td>\n",
       "      <td>Finland</td>\n",
       "      <td>FIN</td>\n",
       "      <td>1948 Summer</td>\n",
       "      <td>1948</td>\n",
       "      <td>Summer</td>\n",
       "      <td>London</td>\n",
       "      <td>Gymnastics</td>\n",
       "      <td>Gymnastics Men's Individual All-Around</td>\n",
       "      <td>Bronze</td>\n",
       "    </tr>\n",
       "  </tbody>\n",
       "</table>\n",
       "</div>"
      ],
      "text/plain": [
       "    ID                      Name Sex   Age  Height  Weight            Team  \\\n",
       "3    4      Edgar Lindenau Aabye   M  34.0     NaN     NaN  Denmark/Sweden   \n",
       "37  15      Arvo Ossian Aaltonen   M  30.0     NaN     NaN         Finland   \n",
       "38  15      Arvo Ossian Aaltonen   M  30.0     NaN     NaN         Finland   \n",
       "40  16  Juhamatti Tapio Aaltonen   M  28.0   184.0    85.0         Finland   \n",
       "41  17   Paavo Johannes Aaltonen   M  28.0   175.0    64.0         Finland   \n",
       "\n",
       "    NOC        Games  Year  Season       City       Sport  \\\n",
       "3   DEN  1900 Summer  1900  Summer      Paris  Tug-Of-War   \n",
       "37  FIN  1920 Summer  1920  Summer  Antwerpen    Swimming   \n",
       "38  FIN  1920 Summer  1920  Summer  Antwerpen    Swimming   \n",
       "40  FIN  2014 Winter  2014  Winter      Sochi  Ice Hockey   \n",
       "41  FIN  1948 Summer  1948  Summer     London  Gymnastics   \n",
       "\n",
       "                                     Event   Medal  \n",
       "3              Tug-Of-War Men's Tug-Of-War    Gold  \n",
       "37  Swimming Men's 200 metres Breaststroke  Bronze  \n",
       "38  Swimming Men's 400 metres Breaststroke  Bronze  \n",
       "40             Ice Hockey Men's Ice Hockey  Bronze  \n",
       "41  Gymnastics Men's Individual All-Around  Bronze  "
      ]
     },
     "execution_count": 159,
     "metadata": {},
     "output_type": "execute_result"
    }
   ],
   "source": [
    "# put your code here\n",
    "event.head()\n",
    "medals = event[event.Team == 'Netherlands'][[\"Event\", \"Medal\"]].groupby(\"Event\").count()\n",
    "medals.sort_values(by='Medal', ascending = False)[0:3]\n",
    "meadls.head()"
   ]
  },
  {
   "cell_type": "markdown",
   "metadata": {
    "colab_type": "text",
    "id": "yN5zlizIuZa8"
   },
   "source": [
    "In the event called 'Hockey Women's Hockey', Netherlands has teh highest medals. "
   ]
  },
  {
   "cell_type": "markdown",
   "metadata": {
    "colab_type": "text",
    "id": "lwumWcqTcMCs"
   },
   "source": [
    "### 10 pt: Which countries have more female medalists than male medalists?"
   ]
  },
  {
   "cell_type": "code",
   "execution_count": 222,
   "metadata": {
    "colab": {},
    "colab_type": "code",
    "id": "OMnjkk4St77B"
   },
   "outputs": [
    {
     "data": {
      "text/plain": [
       "['BLR', 'BRN', 'CHN', 'CRC', 'JAM', 'MNE', 'PER', 'PRK', 'ZIM']"
      ]
     },
     "execution_count": 222,
     "metadata": {},
     "output_type": "execute_result"
    }
   ],
   "source": [
    "event_new = event.drop_duplicates(subset = 'ID',keep = 'first') # duplicates for the same medalists\n",
    "meadls = event_new.dropna(subset=['Medal'])\n",
    "medals_m = dict(meadls[meadls['Sex']=='M'].groupby(['NOC'])['ID'].count()) # using NOC instead of Team\n",
    "medals_f = dict(meadls[meadls['Sex']=='F'].groupby(['NOC'])['ID'].count()) # using dict, delete NA cond\n",
    "cot = []\n",
    "for team in medals_f:\n",
    "    if team in medals_m: # chack whether m is NA\n",
    "        if medals_f[team] > medals_m[team]:\n",
    "            cot.append(team)\n",
    "    else:\n",
    "        cot.append(team)\n",
    "cot "
   ]
  },
  {
   "cell_type": "markdown",
   "metadata": {
    "colab_type": "text",
    "id": "nau57Y2ZuZ6Y"
   },
   "source": [
    "['BLR', 'BRN', 'CHN', 'CRC', 'JAM', 'MNE', 'PER', 'PRK', 'ZIM'] have more female atheles with medals\n"
   ]
  },
  {
   "cell_type": "markdown",
   "metadata": {
    "colab_type": "text",
    "id": "7n5ybXFQcR-g"
   },
   "source": [
    "### 10 pt: Which country won the most medal points in each of the 2016 Summer Olympics?\n",
    "Rank each country by a score, where 3 points are assigned for a gold medal, 2 points for silver, and 1 point for bronze."
   ]
  },
  {
   "cell_type": "code",
   "execution_count": 225,
   "metadata": {
    "colab": {},
    "colab_type": "code",
    "id": "FoWTh2ekt8Wp"
   },
   "outputs": [
    {
     "data": {
      "text/html": [
       "<div>\n",
       "<style scoped>\n",
       "    .dataframe tbody tr th:only-of-type {\n",
       "        vertical-align: middle;\n",
       "    }\n",
       "\n",
       "    .dataframe tbody tr th {\n",
       "        vertical-align: top;\n",
       "    }\n",
       "\n",
       "    .dataframe thead th {\n",
       "        text-align: right;\n",
       "    }\n",
       "</style>\n",
       "<table border=\"1\" class=\"dataframe\">\n",
       "  <thead>\n",
       "    <tr style=\"text-align: right;\">\n",
       "      <th></th>\n",
       "      <th>points</th>\n",
       "    </tr>\n",
       "    <tr>\n",
       "      <th>NOC</th>\n",
       "      <th></th>\n",
       "    </tr>\n",
       "  </thead>\n",
       "  <tbody>\n",
       "    <tr>\n",
       "      <th>USA</th>\n",
       "      <td>596</td>\n",
       "    </tr>\n",
       "    <tr>\n",
       "      <th>GBR</th>\n",
       "      <td>328</td>\n",
       "    </tr>\n",
       "    <tr>\n",
       "      <th>GER</th>\n",
       "      <td>300</td>\n",
       "    </tr>\n",
       "    <tr>\n",
       "      <th>RUS</th>\n",
       "      <td>247</td>\n",
       "    </tr>\n",
       "    <tr>\n",
       "      <th>CHN</th>\n",
       "      <td>235</td>\n",
       "    </tr>\n",
       "  </tbody>\n",
       "</table>\n",
       "</div>"
      ],
      "text/plain": [
       "     points\n",
       "NOC        \n",
       "USA     596\n",
       "GBR     328\n",
       "GER     300\n",
       "RUS     247\n",
       "CHN     235"
      ]
     },
     "execution_count": 225,
     "metadata": {},
     "output_type": "execute_result"
    }
   ],
   "source": [
    "def score(x):\n",
    "    if x == 'Gold':\n",
    "        return 3\n",
    "    elif x == 'Silver':\n",
    "        return 2\n",
    "    elif x == 'Bronze':\n",
    "        return 1\n",
    "    else:\n",
    "        return 0\n",
    "sub_df = event[event.Games == '2016 Summer'][[\"NOC\",\"Medal\"]]\n",
    "sub_df[\"points\"] = sub_df[\"Medal\"].apply(score)\n",
    "sub_df.groupby(\"NOC\").sum().sort_values(\"points\", ascending=False).head(5)\n",
    "\n",
    "# event_2016 = event[event.Games == '2016 Summer']\n",
    "# event_2016.loc[:,'unique_ID'] =  event_2016.index \n",
    "# medl_count = event_2016.pivot_table(index='Medal',columns='NOC',values = 'unique_ID', aggfunc = lambda x: len(x.unique()))\n",
    "# medl_count = medl_count.fillna(0)\n",
    "# medl_count.loc['point',:] = medl_count.loc['Bronze',:] * 1 + medl_count.loc['Gold',:] * 3 +  medl_count.loc['Silver',:] * 1\n",
    "# medl_count.loc['point',:].sort_values(ascending = False)[0:5] 540?"
   ]
  },
  {
   "cell_type": "markdown",
   "metadata": {
    "colab_type": "text",
    "id": "lGrRhr22uan4"
   },
   "source": [
    "USA has the highest point with 596"
   ]
  },
  {
   "cell_type": "markdown",
   "metadata": {
    "colab_type": "text",
    "id": "l8k4nqgfeFJb"
   },
   "source": [
    "### 20 pt: For each year in which games were held, what proportion of gold medals did the host country win? \n",
    "You will need to combine multiple datasets to complete the analysis.  "
   ]
  },
  {
   "cell_type": "code",
   "execution_count": 239,
   "metadata": {
    "colab": {},
    "colab_type": "code",
    "id": "zOlDIr9zt81i"
   },
   "outputs": [
    {
     "data": {
      "text/html": [
       "<div>\n",
       "<style scoped>\n",
       "    .dataframe tbody tr th:only-of-type {\n",
       "        vertical-align: middle;\n",
       "    }\n",
       "\n",
       "    .dataframe tbody tr th {\n",
       "        vertical-align: top;\n",
       "    }\n",
       "\n",
       "    .dataframe thead th {\n",
       "        text-align: right;\n",
       "    }\n",
       "</style>\n",
       "<table border=\"1\" class=\"dataframe\">\n",
       "  <thead>\n",
       "    <tr style=\"text-align: right;\">\n",
       "      <th></th>\n",
       "      <th>ID</th>\n",
       "      <th>Name</th>\n",
       "      <th>Sex</th>\n",
       "      <th>Age</th>\n",
       "      <th>Height</th>\n",
       "      <th>Weight</th>\n",
       "      <th>Team</th>\n",
       "      <th>NOC</th>\n",
       "      <th>Games</th>\n",
       "      <th>Year</th>\n",
       "      <th>Season</th>\n",
       "      <th>City</th>\n",
       "      <th>Sport</th>\n",
       "      <th>Event</th>\n",
       "      <th>Medal</th>\n",
       "    </tr>\n",
       "  </thead>\n",
       "  <tbody>\n",
       "    <tr>\n",
       "      <th>0</th>\n",
       "      <td>1</td>\n",
       "      <td>A Dijiang</td>\n",
       "      <td>M</td>\n",
       "      <td>24.0</td>\n",
       "      <td>180.0</td>\n",
       "      <td>80.0</td>\n",
       "      <td>China</td>\n",
       "      <td>CHN</td>\n",
       "      <td>1992 Summer</td>\n",
       "      <td>1992</td>\n",
       "      <td>Summer</td>\n",
       "      <td>Barcelona</td>\n",
       "      <td>Basketball</td>\n",
       "      <td>Basketball Men's Basketball</td>\n",
       "      <td>NaN</td>\n",
       "    </tr>\n",
       "    <tr>\n",
       "      <th>1</th>\n",
       "      <td>2</td>\n",
       "      <td>A Lamusi</td>\n",
       "      <td>M</td>\n",
       "      <td>23.0</td>\n",
       "      <td>170.0</td>\n",
       "      <td>60.0</td>\n",
       "      <td>China</td>\n",
       "      <td>CHN</td>\n",
       "      <td>2012 Summer</td>\n",
       "      <td>2012</td>\n",
       "      <td>Summer</td>\n",
       "      <td>London</td>\n",
       "      <td>Judo</td>\n",
       "      <td>Judo Men's Extra-Lightweight</td>\n",
       "      <td>NaN</td>\n",
       "    </tr>\n",
       "    <tr>\n",
       "      <th>2</th>\n",
       "      <td>3</td>\n",
       "      <td>Gunnar Nielsen Aaby</td>\n",
       "      <td>M</td>\n",
       "      <td>24.0</td>\n",
       "      <td>NaN</td>\n",
       "      <td>NaN</td>\n",
       "      <td>Denmark</td>\n",
       "      <td>DEN</td>\n",
       "      <td>1920 Summer</td>\n",
       "      <td>1920</td>\n",
       "      <td>Summer</td>\n",
       "      <td>Antwerpen</td>\n",
       "      <td>Football</td>\n",
       "      <td>Football Men's Football</td>\n",
       "      <td>NaN</td>\n",
       "    </tr>\n",
       "    <tr>\n",
       "      <th>3</th>\n",
       "      <td>4</td>\n",
       "      <td>Edgar Lindenau Aabye</td>\n",
       "      <td>M</td>\n",
       "      <td>34.0</td>\n",
       "      <td>NaN</td>\n",
       "      <td>NaN</td>\n",
       "      <td>Denmark/Sweden</td>\n",
       "      <td>DEN</td>\n",
       "      <td>1900 Summer</td>\n",
       "      <td>1900</td>\n",
       "      <td>Summer</td>\n",
       "      <td>Paris</td>\n",
       "      <td>Tug-Of-War</td>\n",
       "      <td>Tug-Of-War Men's Tug-Of-War</td>\n",
       "      <td>Gold</td>\n",
       "    </tr>\n",
       "    <tr>\n",
       "      <th>4</th>\n",
       "      <td>5</td>\n",
       "      <td>Christine Jacoba Aaftink</td>\n",
       "      <td>F</td>\n",
       "      <td>21.0</td>\n",
       "      <td>185.0</td>\n",
       "      <td>82.0</td>\n",
       "      <td>Netherlands</td>\n",
       "      <td>NED</td>\n",
       "      <td>1988 Winter</td>\n",
       "      <td>1988</td>\n",
       "      <td>Winter</td>\n",
       "      <td>Calgary</td>\n",
       "      <td>Speed Skating</td>\n",
       "      <td>Speed Skating Women's 500 metres</td>\n",
       "      <td>NaN</td>\n",
       "    </tr>\n",
       "  </tbody>\n",
       "</table>\n",
       "</div>"
      ],
      "text/plain": [
       "   ID                      Name Sex   Age  Height  Weight            Team  \\\n",
       "0   1                 A Dijiang   M  24.0   180.0    80.0           China   \n",
       "1   2                  A Lamusi   M  23.0   170.0    60.0           China   \n",
       "2   3       Gunnar Nielsen Aaby   M  24.0     NaN     NaN         Denmark   \n",
       "3   4      Edgar Lindenau Aabye   M  34.0     NaN     NaN  Denmark/Sweden   \n",
       "4   5  Christine Jacoba Aaftink   F  21.0   185.0    82.0     Netherlands   \n",
       "\n",
       "   NOC        Games  Year  Season       City          Sport  \\\n",
       "0  CHN  1992 Summer  1992  Summer  Barcelona     Basketball   \n",
       "1  CHN  2012 Summer  2012  Summer     London           Judo   \n",
       "2  DEN  1920 Summer  1920  Summer  Antwerpen       Football   \n",
       "3  DEN  1900 Summer  1900  Summer      Paris     Tug-Of-War   \n",
       "4  NED  1988 Winter  1988  Winter    Calgary  Speed Skating   \n",
       "\n",
       "                              Event Medal  \n",
       "0       Basketball Men's Basketball   NaN  \n",
       "1      Judo Men's Extra-Lightweight   NaN  \n",
       "2           Football Men's Football   NaN  \n",
       "3       Tug-Of-War Men's Tug-Of-War  Gold  \n",
       "4  Speed Skating Women's 500 metres   NaN  "
      ]
     },
     "execution_count": 239,
     "metadata": {},
     "output_type": "execute_result"
    }
   ],
   "source": [
    "# a = {'class': \"wikitable sortable jquery-tablesorter\"} # create an appropriate dictionary\n",
    "# host = pd.read_html(\"https://en.wikipedia.org/wiki/List_of_Olympic_Games_host_cities\", attrs=a)\n",
    "host_scraped  = pd.read_html(\"https://en.wikipedia.org/wiki/List_of_Olympic_Games_host_cities\")\n",
    "def replace(x):\n",
    "    if x[1] == \"United States\":\n",
    "        return \"USA\"\n",
    "    if x[1] == \"United Kingdom\":\n",
    "        return \"UK\"\n",
    "    return x[1]\n",
    "host_new = pd.DataFrame(host_scraped[1])\n",
    "host_new[1] = host_new.apply(replace,axis=1)\n",
    "host_new = host_new[[0,1]]\n",
    "\n",
    "host_new = host_new.rename(columns = {0:\"Host_City\", 1:\"Host_Country\"})\n",
    "host_new = host_new.append({\"Host_City\":\"Athina\", \"Host_Country\":\"Greece\"}, ignore_index=True)\n",
    "host_new = host_new.append({\"Host_City\":\"Torino\", \"Host_Country\":\"Italy\"}, ignore_index=True)\n",
    "host_new = host_new.append({\"Host_City\":\"St. Louis\", \"Host_Country\":\"USA\"}, ignore_index=True)"
   ]
  },
  {
   "cell_type": "code",
   "execution_count": 252,
   "metadata": {
    "colab": {},
    "colab_type": "code",
    "id": "LwtJoLsVJ9zO"
   },
   "outputs": [
    {
     "name": "stderr",
     "output_type": "stream",
     "text": [
      "/anaconda2/envs/python3/lib/python3.6/site-packages/ipykernel_launcher.py:16: FutureWarning: Sorting because non-concatenation axis is not aligned. A future version\n",
      "of pandas will change to not sort by default.\n",
      "\n",
      "To accept the future behavior, pass 'sort=False'.\n",
      "\n",
      "To retain the current behavior and silence the warning, pass 'sort=True'.\n",
      "\n",
      "  app.launch_new_instance()\n"
     ]
    },
    {
     "data": {
      "text/html": [
       "<div>\n",
       "<style scoped>\n",
       "    .dataframe tbody tr th:only-of-type {\n",
       "        vertical-align: middle;\n",
       "    }\n",
       "\n",
       "    .dataframe tbody tr th {\n",
       "        vertical-align: top;\n",
       "    }\n",
       "\n",
       "    .dataframe thead th {\n",
       "        text-align: right;\n",
       "    }\n",
       "</style>\n",
       "<table border=\"1\" class=\"dataframe\">\n",
       "  <thead>\n",
       "    <tr style=\"text-align: right;\">\n",
       "      <th></th>\n",
       "      <th>Gold_host</th>\n",
       "      <th>Gold_all</th>\n",
       "      <th>ratio</th>\n",
       "    </tr>\n",
       "  </thead>\n",
       "  <tbody>\n",
       "    <tr>\n",
       "      <th>1896 Summer</th>\n",
       "      <td>10.0</td>\n",
       "      <td>43</td>\n",
       "      <td>0.232558</td>\n",
       "    </tr>\n",
       "    <tr>\n",
       "      <th>1900 Summer</th>\n",
       "      <td>28.0</td>\n",
       "      <td>89</td>\n",
       "      <td>0.314607</td>\n",
       "    </tr>\n",
       "    <tr>\n",
       "      <th>1904 Summer</th>\n",
       "      <td>76.0</td>\n",
       "      <td>95</td>\n",
       "      <td>0.800000</td>\n",
       "    </tr>\n",
       "    <tr>\n",
       "      <th>1906 Summer</th>\n",
       "      <td>8.0</td>\n",
       "      <td>74</td>\n",
       "      <td>0.108108</td>\n",
       "    </tr>\n",
       "    <tr>\n",
       "      <th>1908 Summer</th>\n",
       "      <td>56.0</td>\n",
       "      <td>109</td>\n",
       "      <td>0.513761</td>\n",
       "    </tr>\n",
       "    <tr>\n",
       "      <th>1912 Summer</th>\n",
       "      <td>24.0</td>\n",
       "      <td>106</td>\n",
       "      <td>0.226415</td>\n",
       "    </tr>\n",
       "    <tr>\n",
       "      <th>1920 Summer</th>\n",
       "      <td>0.0</td>\n",
       "      <td>154</td>\n",
       "      <td>0.000000</td>\n",
       "    </tr>\n",
       "    <tr>\n",
       "      <th>1924 Summer</th>\n",
       "      <td>14.0</td>\n",
       "      <td>129</td>\n",
       "      <td>0.108527</td>\n",
       "    </tr>\n",
       "    <tr>\n",
       "      <th>1924 Winter</th>\n",
       "      <td>0.0</td>\n",
       "      <td>17</td>\n",
       "      <td>0.000000</td>\n",
       "    </tr>\n",
       "    <tr>\n",
       "      <th>1928 Summer</th>\n",
       "      <td>8.0</td>\n",
       "      <td>118</td>\n",
       "      <td>0.067797</td>\n",
       "    </tr>\n",
       "    <tr>\n",
       "      <th>1928 Winter</th>\n",
       "      <td>0.0</td>\n",
       "      <td>13</td>\n",
       "      <td>0.000000</td>\n",
       "    </tr>\n",
       "    <tr>\n",
       "      <th>1932 Summer</th>\n",
       "      <td>44.0</td>\n",
       "      <td>125</td>\n",
       "      <td>0.352000</td>\n",
       "    </tr>\n",
       "    <tr>\n",
       "      <th>1932 Winter</th>\n",
       "      <td>6.0</td>\n",
       "      <td>14</td>\n",
       "      <td>0.428571</td>\n",
       "    </tr>\n",
       "    <tr>\n",
       "      <th>1936 Summer</th>\n",
       "      <td>38.0</td>\n",
       "      <td>140</td>\n",
       "      <td>0.271429</td>\n",
       "    </tr>\n",
       "    <tr>\n",
       "      <th>1936 Winter</th>\n",
       "      <td>0.0</td>\n",
       "      <td>17</td>\n",
       "      <td>0.000000</td>\n",
       "    </tr>\n",
       "    <tr>\n",
       "      <th>1948 Summer</th>\n",
       "      <td>4.0</td>\n",
       "      <td>143</td>\n",
       "      <td>0.027972</td>\n",
       "    </tr>\n",
       "    <tr>\n",
       "      <th>1948 Winter</th>\n",
       "      <td>0.0</td>\n",
       "      <td>22</td>\n",
       "      <td>0.000000</td>\n",
       "    </tr>\n",
       "    <tr>\n",
       "      <th>1952 Summer</th>\n",
       "      <td>6.0</td>\n",
       "      <td>149</td>\n",
       "      <td>0.040268</td>\n",
       "    </tr>\n",
       "    <tr>\n",
       "      <th>1952 Winter</th>\n",
       "      <td>7.0</td>\n",
       "      <td>22</td>\n",
       "      <td>0.318182</td>\n",
       "    </tr>\n",
       "    <tr>\n",
       "      <th>1956 Summer</th>\n",
       "      <td>3.0</td>\n",
       "      <td>151</td>\n",
       "      <td>0.019868</td>\n",
       "    </tr>\n",
       "    <tr>\n",
       "      <th>1956 Winter</th>\n",
       "      <td>1.0</td>\n",
       "      <td>24</td>\n",
       "      <td>0.041667</td>\n",
       "    </tr>\n",
       "    <tr>\n",
       "      <th>1960 Summer</th>\n",
       "      <td>0.0</td>\n",
       "      <td>150</td>\n",
       "      <td>0.000000</td>\n",
       "    </tr>\n",
       "    <tr>\n",
       "      <th>1960 Winter</th>\n",
       "      <td>3.0</td>\n",
       "      <td>27</td>\n",
       "      <td>0.111111</td>\n",
       "    </tr>\n",
       "    <tr>\n",
       "      <th>1964 Summer</th>\n",
       "      <td>16.0</td>\n",
       "      <td>163</td>\n",
       "      <td>0.098160</td>\n",
       "    </tr>\n",
       "    <tr>\n",
       "      <th>1964 Winter</th>\n",
       "      <td>4.0</td>\n",
       "      <td>34</td>\n",
       "      <td>0.117647</td>\n",
       "    </tr>\n",
       "    <tr>\n",
       "      <th>1968 Summer</th>\n",
       "      <td>3.0</td>\n",
       "      <td>172</td>\n",
       "      <td>0.017442</td>\n",
       "    </tr>\n",
       "    <tr>\n",
       "      <th>1968 Winter</th>\n",
       "      <td>4.0</td>\n",
       "      <td>35</td>\n",
       "      <td>0.114286</td>\n",
       "    </tr>\n",
       "    <tr>\n",
       "      <th>1972 Summer</th>\n",
       "      <td>0.0</td>\n",
       "      <td>193</td>\n",
       "      <td>0.000000</td>\n",
       "    </tr>\n",
       "    <tr>\n",
       "      <th>1972 Winter</th>\n",
       "      <td>1.0</td>\n",
       "      <td>35</td>\n",
       "      <td>0.028571</td>\n",
       "    </tr>\n",
       "    <tr>\n",
       "      <th>1976 Summer</th>\n",
       "      <td>0.0</td>\n",
       "      <td>198</td>\n",
       "      <td>0.000000</td>\n",
       "    </tr>\n",
       "    <tr>\n",
       "      <th>1976 Winter</th>\n",
       "      <td>2.0</td>\n",
       "      <td>37</td>\n",
       "      <td>0.054054</td>\n",
       "    </tr>\n",
       "    <tr>\n",
       "      <th>1980 Summer</th>\n",
       "      <td>0.0</td>\n",
       "      <td>203</td>\n",
       "      <td>0.000000</td>\n",
       "    </tr>\n",
       "    <tr>\n",
       "      <th>1980 Winter</th>\n",
       "      <td>6.0</td>\n",
       "      <td>38</td>\n",
       "      <td>0.157895</td>\n",
       "    </tr>\n",
       "    <tr>\n",
       "      <th>1984 Summer</th>\n",
       "      <td>82.0</td>\n",
       "      <td>221</td>\n",
       "      <td>0.371041</td>\n",
       "    </tr>\n",
       "    <tr>\n",
       "      <th>1984 Winter</th>\n",
       "      <td>0.0</td>\n",
       "      <td>39</td>\n",
       "      <td>0.000000</td>\n",
       "    </tr>\n",
       "    <tr>\n",
       "      <th>1988 Summer</th>\n",
       "      <td>12.0</td>\n",
       "      <td>237</td>\n",
       "      <td>0.050633</td>\n",
       "    </tr>\n",
       "    <tr>\n",
       "      <th>1988 Winter</th>\n",
       "      <td>0.0</td>\n",
       "      <td>46</td>\n",
       "      <td>0.000000</td>\n",
       "    </tr>\n",
       "    <tr>\n",
       "      <th>1992 Summer</th>\n",
       "      <td>13.0</td>\n",
       "      <td>257</td>\n",
       "      <td>0.050584</td>\n",
       "    </tr>\n",
       "    <tr>\n",
       "      <th>1992 Winter</th>\n",
       "      <td>3.0</td>\n",
       "      <td>55</td>\n",
       "      <td>0.054545</td>\n",
       "    </tr>\n",
       "    <tr>\n",
       "      <th>1994 Winter</th>\n",
       "      <td>8.0</td>\n",
       "      <td>59</td>\n",
       "      <td>0.135593</td>\n",
       "    </tr>\n",
       "    <tr>\n",
       "      <th>1996 Summer</th>\n",
       "      <td>44.0</td>\n",
       "      <td>271</td>\n",
       "      <td>0.162362</td>\n",
       "    </tr>\n",
       "    <tr>\n",
       "      <th>1998 Winter</th>\n",
       "      <td>5.0</td>\n",
       "      <td>66</td>\n",
       "      <td>0.075758</td>\n",
       "    </tr>\n",
       "    <tr>\n",
       "      <th>2000 Summer</th>\n",
       "      <td>16.0</td>\n",
       "      <td>299</td>\n",
       "      <td>0.053512</td>\n",
       "    </tr>\n",
       "    <tr>\n",
       "      <th>2002 Winter</th>\n",
       "      <td>10.0</td>\n",
       "      <td>78</td>\n",
       "      <td>0.128205</td>\n",
       "    </tr>\n",
       "    <tr>\n",
       "      <th>2004 Summer</th>\n",
       "      <td>6.0</td>\n",
       "      <td>301</td>\n",
       "      <td>0.019934</td>\n",
       "    </tr>\n",
       "    <tr>\n",
       "      <th>2006 Winter</th>\n",
       "      <td>5.0</td>\n",
       "      <td>84</td>\n",
       "      <td>0.059524</td>\n",
       "    </tr>\n",
       "    <tr>\n",
       "      <th>2008 Summer</th>\n",
       "      <td>51.0</td>\n",
       "      <td>302</td>\n",
       "      <td>0.168874</td>\n",
       "    </tr>\n",
       "    <tr>\n",
       "      <th>2010 Winter</th>\n",
       "      <td>14.0</td>\n",
       "      <td>86</td>\n",
       "      <td>0.162791</td>\n",
       "    </tr>\n",
       "    <tr>\n",
       "      <th>2012 Summer</th>\n",
       "      <td>29.0</td>\n",
       "      <td>302</td>\n",
       "      <td>0.096026</td>\n",
       "    </tr>\n",
       "    <tr>\n",
       "      <th>2014 Winter</th>\n",
       "      <td>13.0</td>\n",
       "      <td>98</td>\n",
       "      <td>0.132653</td>\n",
       "    </tr>\n",
       "    <tr>\n",
       "      <th>2016 Summer</th>\n",
       "      <td>7.0</td>\n",
       "      <td>306</td>\n",
       "      <td>0.022876</td>\n",
       "    </tr>\n",
       "  </tbody>\n",
       "</table>\n",
       "</div>"
      ],
      "text/plain": [
       "             Gold_host  Gold_all     ratio\n",
       "1896 Summer       10.0        43  0.232558\n",
       "1900 Summer       28.0        89  0.314607\n",
       "1904 Summer       76.0        95  0.800000\n",
       "1906 Summer        8.0        74  0.108108\n",
       "1908 Summer       56.0       109  0.513761\n",
       "1912 Summer       24.0       106  0.226415\n",
       "1920 Summer        0.0       154  0.000000\n",
       "1924 Summer       14.0       129  0.108527\n",
       "1924 Winter        0.0        17  0.000000\n",
       "1928 Summer        8.0       118  0.067797\n",
       "1928 Winter        0.0        13  0.000000\n",
       "1932 Summer       44.0       125  0.352000\n",
       "1932 Winter        6.0        14  0.428571\n",
       "1936 Summer       38.0       140  0.271429\n",
       "1936 Winter        0.0        17  0.000000\n",
       "1948 Summer        4.0       143  0.027972\n",
       "1948 Winter        0.0        22  0.000000\n",
       "1952 Summer        6.0       149  0.040268\n",
       "1952 Winter        7.0        22  0.318182\n",
       "1956 Summer        3.0       151  0.019868\n",
       "1956 Winter        1.0        24  0.041667\n",
       "1960 Summer        0.0       150  0.000000\n",
       "1960 Winter        3.0        27  0.111111\n",
       "1964 Summer       16.0       163  0.098160\n",
       "1964 Winter        4.0        34  0.117647\n",
       "1968 Summer        3.0       172  0.017442\n",
       "1968 Winter        4.0        35  0.114286\n",
       "1972 Summer        0.0       193  0.000000\n",
       "1972 Winter        1.0        35  0.028571\n",
       "1976 Summer        0.0       198  0.000000\n",
       "1976 Winter        2.0        37  0.054054\n",
       "1980 Summer        0.0       203  0.000000\n",
       "1980 Winter        6.0        38  0.157895\n",
       "1984 Summer       82.0       221  0.371041\n",
       "1984 Winter        0.0        39  0.000000\n",
       "1988 Summer       12.0       237  0.050633\n",
       "1988 Winter        0.0        46  0.000000\n",
       "1992 Summer       13.0       257  0.050584\n",
       "1992 Winter        3.0        55  0.054545\n",
       "1994 Winter        8.0        59  0.135593\n",
       "1996 Summer       44.0       271  0.162362\n",
       "1998 Winter        5.0        66  0.075758\n",
       "2000 Summer       16.0       299  0.053512\n",
       "2002 Winter       10.0        78  0.128205\n",
       "2004 Summer        6.0       301  0.019934\n",
       "2006 Winter        5.0        84  0.059524\n",
       "2008 Summer       51.0       302  0.168874\n",
       "2010 Winter       14.0        86  0.162791\n",
       "2012 Summer       29.0       302  0.096026\n",
       "2014 Winter       13.0        98  0.132653\n",
       "2016 Summer        7.0       306  0.022876"
      ]
     },
     "execution_count": 252,
     "metadata": {},
     "output_type": "execute_result"
    }
   ],
   "source": [
    "# merge dataframe\n",
    "host_cot = pd.merge(event,host_new,how='left',left_on='City',right_on='Host_City')\n",
    "host_cot = pd.merge(host_cot,region,how='left',left_on='NOC',right_on='NOC') # from '/Users/xuxinye/Downloads/noc_regions.csv'\n",
    "\n",
    "# Host obtained Gold medals\n",
    "Gold = host_cot[(host_cot['Medal']=='Gold') & (host_cot['Host_Country'] == host_cot['region'])]\n",
    "Gold = Gold.drop_duplicates(subset=[\"Games\",\"Event\"]).groupby('Games')['Medal'].count()\n",
    "\n",
    "# the Number of medal in each game.\n",
    "Total = event[event['Medal']=='Gold']\n",
    "Total = Total.drop_duplicates(subset=['Games','Event'])\n",
    "All_medal = Total[['Games','Medal']].groupby('Games').count()\n",
    "All_medal = All_medal.rename(columns = {'Medal':'Gold_all'})\n",
    "\n",
    "# Final Result\n",
    "result = pd.concat([Gold,All_medal], axis=1)\n",
    "result = result.fillna(0)\n",
    "result = result.rename(columns = {'Medal':'Gold_host'}) # change the same names for column\n",
    "result['ratio'] = result.apply(lambda x: x[\"Gold_host\"] / x[\"Gold_all\"], axis=1)\n",
    "\n",
    "result"
   ]
  },
  {
   "cell_type": "markdown",
   "metadata": {},
   "source": [
    "From above,the ratio represents the percentage of host won gold medals again the total number."
   ]
  }
 ],
 "metadata": {
  "colab": {
   "collapsed_sections": [],
   "name": "SI 618 FA 2018 Homework 1.ipynb",
   "provenance": [],
   "version": "0.3.2"
  },
  "kernelspec": {
   "display_name": "Python 3",
   "language": "python",
   "name": "python3"
  },
  "language_info": {
   "codemirror_mode": {
    "name": "ipython",
    "version": 3
   },
   "file_extension": ".py",
   "mimetype": "text/x-python",
   "name": "python",
   "nbconvert_exporter": "python",
   "pygments_lexer": "ipython3",
   "version": "3.6.8"
  }
 },
 "nbformat": 4,
 "nbformat_minor": 2
}
